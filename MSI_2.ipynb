{
  "nbformat": 4,
  "nbformat_minor": 0,
  "metadata": {
    "colab": {
      "provenance": [],
      "authorship_tag": "ABX9TyMLre2mQRUkkcC6cWLBHiUv",
      "include_colab_link": true
    },
    "kernelspec": {
      "name": "python3",
      "display_name": "Python 3"
    },
    "language_info": {
      "name": "python"
    }
  },
  "cells": [
    {
      "cell_type": "markdown",
      "metadata": {
        "id": "view-in-github",
        "colab_type": "text"
      },
      "source": [
        "<a href=\"https://colab.research.google.com/github/zarembaMichal/LetsStart/blob/main/MSI_2.ipynb\" target=\"_parent\"><img src=\"https://colab.research.google.com/assets/colab-badge.svg\" alt=\"Open In Colab\"/></a>"
      ]
    },
    {
      "cell_type": "markdown",
      "source": [
        "## Sieci Neuronowe"
      ],
      "metadata": {
        "id": "o_usRVPbZuU_"
      }
    },
    {
      "cell_type": "markdown",
      "source": [
        "### Import niezbędnych bibliotek"
      ],
      "metadata": {
        "id": "PLvvIAJXYrsW"
      }
    },
    {
      "cell_type": "code",
      "source": [
        "from numpy import exp\n",
        "import numpy as np\n",
        "import pandas as pd\n",
        "import matplotlib.pyplot as plt\n",
        "from sklearn.preprocessing import MinMaxScaler\n",
        "from sklearn import metrics\n",
        "from IPython.display import display"
      ],
      "metadata": {
        "id": "WN8YCcZlE42p"
      },
      "execution_count": 308,
      "outputs": []
    },
    {
      "cell_type": "markdown",
      "source": [
        "### Zadanie 1\n",
        "\n"
      ],
      "metadata": {
        "id": "j2hXYgKGZ2ow"
      }
    },
    {
      "cell_type": "markdown",
      "source": [
        "\n",
        "Napisz funkcję perceptron, która będzie realizowała obliczenia perceptronu z dwoma wejściami $x_1$ oraz $x_2$, z progową funkcją aktywacji. Jako wejście będzie przyjmowała wagi $w_1$, $w_2$ oraz wejścia $x_1,x_2 \\in {0,1}$. Dobierz w sposób manualny wagi $w_1$, $w_2$ oraz $w_3$ do problemu:\n",
        "\n",
        "1.  Operacja logiczna AND\n",
        "\n",
        "Parametry perceptronu, takie jak \\( $w_1$ = 0.2 \\), \\( $w_2$ = 0 \\), \\( $w_3$ = 0.1 \\), mogą błędnie klasyfikować niektóre punkty dla operacji AND. Na przykład:\n",
        "- Dla \\( $x_1$ = 1 \\), \\( $x_2$ = 1 \\), perceptron poprawnie przewiduje 1.\n",
        "- Dla \\( $x_1$ = 0 \\), \\( $x_2$ = 1 \\), perceptron błędnie przewiduje 1 zamiast 0.\n",
        "\n",
        "| \\( $x_1$ \\) | \\( $x_2$ \\) | \\( $x_1$ AND $x_2$ \\) |\n",
        "|----------:|----------:|-----------------------------:|\n",
        "|         0 |         0 |                           0 |\n",
        "|         0 |         1 |                           0 |\n",
        "|         1 |         0 |                           0 |\n",
        "|         1 |         1 |                           1 |\n",
        "\n",
        "\n",
        "2. Operacja logiczna OR\n",
        "\n",
        "| \\( $x_1$ \\) | \\( $x_2$ \\) | \\( $x_1$ OR $x_2$ \\) |\n",
        "|----------:|----------:|----------------------------:|\n",
        "|         0 |         0 |                          0 |\n",
        "|         0 |         1 |                          1 |\n",
        "|         1 |         0 |                          1 |\n",
        "|         1 |         1 |                          1 |\n",
        "\n",
        "\n",
        "3. Operacja logiczna XOR\n",
        "\n",
        "Czy perceptron może rozwiązać problem XOR?  \n",
        "**Odpowiedź**: Nie, pojedyncza warstwa perceptronu nie może rozwiązać problemu XOR, ponieważ nie jest on liniowo separowalny.\n",
        "\n",
        "| \\( $x_1$ \\) | \\( $x_2$ \\) | \\( $x_1$ XOR $x_2$ \\) |\n",
        "|----------:|----------:|-----------------------------:|\n",
        "|         0 |         0 |                           0 |\n",
        "|         0 |         1 |                           1 |\n",
        "|         1 |         0 |                           1 |\n",
        "|         1 |         1 |                           0 |"
      ],
      "metadata": {
        "id": "-YkQ-4B5VEzH"
      }
    },
    {
      "cell_type": "code",
      "source": [
        "def perceptron(w1, w2, w3, x1, x2):\n",
        "  y = w1 * x1 + w2 * x2 + w3\n",
        "  return 1 if y > 0 else 0"
      ],
      "metadata": {
        "id": "QHk45diKYqQD"
      },
      "execution_count": 309,
      "outputs": []
    },
    {
      "cell_type": "markdown",
      "source": [
        "### Zadanie 2"
      ],
      "metadata": {
        "id": "dTH0aBkkeBfF"
      }
    },
    {
      "cell_type": "markdown",
      "source": [
        "Napisz procedurę train_ann, która zwróci krotkę wag (w1, w2). Funkcja powinna trenować sieć neuronową w trybie batchowym."
      ],
      "metadata": {
        "id": "wX2BIyNteIVm"
      }
    },
    {
      "cell_type": "code",
      "source": [
        "def train_ann(x, y, hidden = 10, eta = 0.1, it_nmb = 10000, seed = 42):\n",
        "    nmb_of_inputs_in_w1 = x.shape[1] + 1\n",
        "    nmb_of_inputs_in_w2 = hidden + 1\n",
        "    nmb_of_outputs = y.shape[1]\n",
        "\n",
        "    w1 = np.random.randn(nmb_of_inputs_in_w1, hidden)\n",
        "    w2 = np.random.randn(nmb_of_inputs_in_w2, nmb_of_outputs)\n",
        "\n",
        "    for i in range(0,it_nmb):\n",
        "        outputs = compute_feed_forward(x, w1, w2)\n",
        "        new_w = compute_backpropagation(x, y, outputs[0], outputs[1], w1, w2, eta)\n",
        "        w1 = new_w[0]\n",
        "        w2 = new_w[1]\n",
        "\n",
        "    return (w1, w2)"
      ],
      "metadata": {
        "id": "Ed9sJy9zZjm2"
      },
      "execution_count": 310,
      "outputs": []
    },
    {
      "cell_type": "markdown",
      "source": [
        "### Zadanie 3\n"
      ],
      "metadata": {
        "id": "pCPscRIQfsiG"
      }
    },
    {
      "cell_type": "markdown",
      "source": [
        "Zaimplementuj funkcję compute_feed_forward."
      ],
      "metadata": {
        "id": "dRF432KKVgmD"
      }
    },
    {
      "cell_type": "code",
      "source": [
        "def sigmoid(x):\n",
        "  return 1 / (1 + exp(-x))"
      ],
      "metadata": {
        "id": "0pcVi7OQftCa"
      },
      "execution_count": 311,
      "outputs": []
    },
    {
      "cell_type": "code",
      "source": [
        "def compute_feed_forward(x, w1, w2, activation_function = sigmoid):\n",
        "\n",
        "    x = np.c_[x, np.repeat(1, x.shape[0])] #do macierzy danych uczących x dodajemy kolumnę z jedynkami, która reprezentuje wyraz wolny w warstwie wejściowej\n",
        "    oh = activation_function(x @ w1)\n",
        "\n",
        "    oh_b = np.c_[oh, np.repeat(1, oh.shape[0])]\n",
        "    ou = activation_function(oh_b @ w2)\n",
        "\n",
        "    return (ou, oh)"
      ],
      "metadata": {
        "id": "FTPzCHx3f8Da"
      },
      "execution_count": 312,
      "outputs": []
    },
    {
      "cell_type": "markdown",
      "source": [
        "### Zadanie 4"
      ],
      "metadata": {
        "id": "J6baJEf8jfK7"
      }
    },
    {
      "cell_type": "markdown",
      "source": [
        "Zaimplementuj funkcję compute_backpropagation."
      ],
      "metadata": {
        "id": "6wboYCdaVxOY"
      }
    },
    {
      "cell_type": "code",
      "source": [
        "def compute_backpropagation(x, y, ou, oh, w1, w2, eta):\n",
        "    delta_u = (ou*(1-ou))*(y-ou)\n",
        "    oh_b = np.c_[oh, np.repeat(1,oh.shape[0])]\n",
        "    delta_h = (oh*(1-oh))*(delta_u @ w2[:-1].T)\n",
        "    x_b = np.c_[x, np.repeat(1, x.shape[0])]\n",
        "\n",
        "    w2 = w2 + oh_b.T @ delta_u * eta\n",
        "    w1 = w1 + x_b.T @ delta_h * eta\n",
        "    return (w1, w2)"
      ],
      "metadata": {
        "id": "_XND1Rpxjh2Q"
      },
      "execution_count": 313,
      "outputs": []
    },
    {
      "cell_type": "markdown",
      "source": [
        "### Zadanie 5"
      ],
      "metadata": {
        "id": "9PfB93wFmIgC"
      }
    },
    {
      "cell_type": "markdown",
      "source": [
        "Zaimplementuj funkcję predict, która zwraca przewidywane wyniki na podstawie nauczonego modelu."
      ],
      "metadata": {
        "id": "1TH-WfL_V1ms"
      }
    },
    {
      "cell_type": "code",
      "source": [
        "def predict(x, model, activation_function = sigmoid):\n",
        "  x = np.c_[x, np.repeat(1, x.shape[0])]\n",
        "  h = activation_function(x @ model[0])\n",
        "  h2 = np.c_[h, np.repeat(1, h.shape[0])]\n",
        "  out = activation_function(h2 @ model[1])\n",
        "\n",
        "  return np.array([1.0 if element >0.5 else 0.0 for element in out])"
      ],
      "metadata": {
        "id": "qjUw8z5vmIzR"
      },
      "execution_count": 314,
      "outputs": []
    },
    {
      "cell_type": "markdown",
      "source": [
        "### Zadanie 6"
      ],
      "metadata": {
        "id": "XAjcJp2ime2O"
      }
    },
    {
      "cell_type": "code",
      "source": [
        "x = np.array([[0,0],[1,0],[0,1],[1,1]])\n",
        "y = np.array([[0],[0],[0],[1]])\n",
        "\n",
        "model = train_ann(x,y)\n",
        "predict(x, model)"
      ],
      "metadata": {
        "colab": {
          "base_uri": "https://localhost:8080/"
        },
        "id": "YNze8RgtmfS-",
        "outputId": "2b1e3bb1-6496-4705-b359-e9c37ae7d138"
      },
      "execution_count": 315,
      "outputs": [
        {
          "output_type": "execute_result",
          "data": {
            "text/plain": [
              "array([0., 0., 0., 1.])"
            ]
          },
          "metadata": {},
          "execution_count": 315
        }
      ]
    },
    {
      "cell_type": "markdown",
      "source": [
        "### Zadanie 7\n",
        "Podobnie jak w zadaniu z SVM załaduj zbiór “cats”:"
      ],
      "metadata": {
        "id": "PUgUUDLqIFTT"
      }
    },
    {
      "cell_type": "code",
      "source": [
        "cats = pd.read_csv(\"cats.csv\")"
      ],
      "metadata": {
        "id": "jtDy7V2Soset"
      },
      "execution_count": 316,
      "outputs": []
    },
    {
      "cell_type": "markdown",
      "source": [
        "#### a) Zbuduj model dla tego zbioru z wykorzystaniemmetod do trenowania sieci neuronowych z             poprzedniego zadania. Konieczna będzie transformacja danych wejściowych:"
      ],
      "metadata": {
        "id": "ESYS2ryXIVkL"
      }
    },
    {
      "cell_type": "code",
      "source": [
        "x = cats.iloc[:,1:]\n",
        "y = cats.iloc[:,0]\n",
        "\n",
        "y.loc[y==\"F\"] = 1.0\n",
        "y.loc[y==\"M\"] = 0.0\n",
        "\n",
        "y = y.to_numpy().reshape(-1,1).astype(np.float16)\n",
        "x = x.astype(np.float16)"
      ],
      "metadata": {
        "colab": {
          "base_uri": "https://localhost:8080/"
        },
        "id": "faX8N304IU_p",
        "outputId": "74f87764-7782-404f-9627-4bddd4290ba8"
      },
      "execution_count": 317,
      "outputs": [
        {
          "output_type": "stream",
          "name": "stderr",
          "text": [
            "<ipython-input-317-518ed08b1836>:4: SettingWithCopyWarning: \n",
            "A value is trying to be set on a copy of a slice from a DataFrame\n",
            "\n",
            "See the caveats in the documentation: https://pandas.pydata.org/pandas-docs/stable/user_guide/indexing.html#returning-a-view-versus-a-copy\n",
            "  y.loc[y==\"F\"] = 1.0\n",
            "<ipython-input-317-518ed08b1836>:5: SettingWithCopyWarning: \n",
            "A value is trying to be set on a copy of a slice from a DataFrame\n",
            "\n",
            "See the caveats in the documentation: https://pandas.pydata.org/pandas-docs/stable/user_guide/indexing.html#returning-a-view-versus-a-copy\n",
            "  y.loc[y==\"M\"] = 0.0\n"
          ]
        }
      ]
    },
    {
      "cell_type": "code",
      "source": [
        "# Uczymy sieć na danych kotów x i y oraz robimy predykcję za pomocą predict\n",
        "\n",
        "model = train_ann(x, y, hidden = 100, eta =0.15)\n",
        "\n",
        "predictions  = predict(x,model)"
      ],
      "metadata": {
        "id": "FeKfLVUpqKcP"
      },
      "execution_count": 318,
      "outputs": []
    },
    {
      "cell_type": "code",
      "source": [
        "# Obliczanie metryk\n",
        "accuracy = metrics.accuracy_score(y, predictions)\n",
        "precision = metrics.precision_score(y, predictions, zero_division=0)\n",
        "recall = metrics.recall_score(y, predictions, zero_division=0)\n",
        "f1 = metrics.f1_score(y, predictions, zero_division=0)\n",
        "conf_matrix = metrics.confusion_matrix(y, predictions)\n",
        "\n",
        "# Tworzymy ramkę danych z wynikami\n",
        "results = pd.DataFrame([{\n",
        "    \"Model\": \"ANN Default\",\n",
        "    \"Parameters\": \"hidden=100, eta=0.15\",\n",
        "    \"Accuracy\": accuracy,\n",
        "    \"Precision\": precision,\n",
        "    \"Recall\": recall,\n",
        "    \"F1_Score\": f1,\n",
        "    \"Confusion_Matrix\": conf_matrix.tolist()  # Macierz jako lista\n",
        "}])\n",
        "\n",
        "# Zmieniamy opcje wyświetlania dla pandas\n",
        "pd.set_option('display.max_columns', None)  # Wyświetl wszystkie kolumny\n",
        "pd.set_option('display.max_colwidth', None)  # Wyświetl pełną szerokość tekstu w komórkach\n",
        "pd.set_option('display.float_format', '{:.3f}'.format)  # Formatowanie liczb\n",
        "\n",
        "# Drukowanie ramki danych\n",
        "print(results)\n"
      ],
      "metadata": {
        "colab": {
          "base_uri": "https://localhost:8080/"
        },
        "id": "YQXB_PovAqjB",
        "outputId": "b21b177c-4b84-4f8a-d7b3-b444bf060ba4"
      },
      "execution_count": 319,
      "outputs": [
        {
          "output_type": "stream",
          "name": "stdout",
          "text": [
            "         Model            Parameters  Accuracy  Precision  Recall  F1_Score  \\\n",
            "0  ANN Default  hidden=100, eta=0.15     0.674      0.000   0.000     0.000   \n",
            "\n",
            "     Confusion_Matrix  \n",
            "0  [[97, 0], [47, 0]]  \n"
          ]
        }
      ]
    },
    {
      "cell_type": "markdown",
      "source": [
        "**Komentarz:** Brak skalowania danych wejściowych negatywnie wpływa na proces uczenia sieci neuronowej. Zmienna cecha o większych wartościach może zdominować obliczenia w trakcie propagacji, przez co model staje się mniej skuteczny w znajdowaniu właściwych zależności między zmiennymi. W konsekwencji, predykcja może być nieprecyzyjna, zwłaszcza dla cech o mniejszej skali."
      ],
      "metadata": {
        "id": "NwurG2_SqMBY"
      }
    },
    {
      "cell_type": "markdown",
      "source": [
        "#### b) Dokonaj przeskalowania danych zgodnie z poniższą formułą:"
      ],
      "metadata": {
        "id": "_76PL6nHIzkf"
      }
    },
    {
      "cell_type": "code",
      "source": [
        "from sklearn import preprocessing\n",
        "\n",
        "x_scaled = preprocessing.scale(x)"
      ],
      "metadata": {
        "id": "CmbzCYIhqKew",
        "colab": {
          "base_uri": "https://localhost:8080/"
        },
        "outputId": "ac6bf388-ae2c-476d-c4b7-4ddedc239253"
      },
      "execution_count": 320,
      "outputs": [
        {
          "output_type": "stream",
          "name": "stderr",
          "text": [
            "/usr/local/lib/python3.10/dist-packages/sklearn/preprocessing/_data.py:261: UserWarning: Numerical issues were encountered when centering the data and might not be solved. Dataset may contain too large values. You may need to prescale your features.\n",
            "  warnings.warn(\n",
            "/usr/local/lib/python3.10/dist-packages/sklearn/preprocessing/_data.py:280: UserWarning: Numerical issues were encountered when scaling the data and might not be solved. The standard deviation of the data is probably very close to 0. \n",
            "  warnings.warn(\n"
          ]
        }
      ]
    },
    {
      "cell_type": "code",
      "source": [
        "# Uczymy model z domyślnym skalowaniem\n",
        "model_scaled = train_ann(x_scaled, y, hidden=100)\n",
        "predictions_scaled = predict(x_scaled, model_scaled)"
      ],
      "metadata": {
        "id": "WvPXHKqGI5ri"
      },
      "execution_count": 321,
      "outputs": []
    },
    {
      "cell_type": "code",
      "source": [
        "# Obliczanie metryk dla modelu ze skalowaniem\n",
        "accuracy_scaled = metrics.accuracy_score(y, predictions_scaled)\n",
        "precision_scaled = metrics.precision_score(y, predictions_scaled, zero_division=0)\n",
        "recall_scaled = metrics.recall_score(y, predictions_scaled, zero_division=0)\n",
        "f1_scaled = metrics.f1_score(y, predictions_scaled, zero_division=0)\n",
        "conf_matrix_scaled = metrics.confusion_matrix(y, predictions_scaled)\n",
        "\n",
        "# Tworzymy nowy wiersz z wynikami\n",
        "scaled_result = {\n",
        "    \"Model\": \"ANN Skaled\",\n",
        "    \"Parameters\": \"hidden=100, eta=default\",\n",
        "    \"Accuracy\": accuracy_scaled,\n",
        "    \"Precision\": precision_scaled,\n",
        "    \"Recall\": recall_scaled,\n",
        "    \"F1_Score\": f1_scaled,\n",
        "    \"Confusion_Matrix\": conf_matrix_scaled.tolist()\n",
        "}\n",
        "\n",
        "# Dodanie nowego wiersza do istniejącej ramki danych\n",
        "results = pd.concat([results, pd.DataFrame([scaled_result])], ignore_index=True)\n",
        "\n",
        "# Wyświetlenie zaktualizowanej ramki danych\n",
        "print(results)"
      ],
      "metadata": {
        "colab": {
          "base_uri": "https://localhost:8080/"
        },
        "id": "OJtfNeF9Cpai",
        "outputId": "621f9065-18a1-41de-8a9d-cb1ae0a7ad66"
      },
      "execution_count": 322,
      "outputs": [
        {
          "output_type": "stream",
          "name": "stdout",
          "text": [
            "         Model               Parameters  Accuracy  Precision  Recall  \\\n",
            "0  ANN Default     hidden=100, eta=0.15     0.674      0.000   0.000   \n",
            "1   ANN Skaled  hidden=100, eta=default     0.875      0.774   0.872   \n",
            "\n",
            "   F1_Score     Confusion_Matrix  \n",
            "0     0.000   [[97, 0], [47, 0]]  \n",
            "1     0.820  [[85, 12], [6, 41]]  \n"
          ]
        }
      ]
    },
    {
      "cell_type": "markdown",
      "source": [
        "**Komentarz:** Dzięki ujednoliceniu rozkładu danych (średnia = 0, odchylenie standardowe = 1) model staje się bardziej stabilny i uczy się szybciej. Wynik może być lepszy w porównaniu do braku skalowania."
      ],
      "metadata": {
        "id": "uAWi5hhPXioS"
      }
    },
    {
      "cell_type": "code",
      "source": [
        "def plotCats(X, Y, model):\n",
        "   x_min, x_max = X[:,0].min() - .5, X[:,0].max() + .5\n",
        "   y_min, y_max = X[:,1].min() - .5, X[:,1].max() + .5\n",
        "   h = .02\n",
        "   xx, yy = np.meshgrid(np.arange(x_min, x_max, h), np.arange(y_min, y_max, h))\n",
        "   predictions = predict(np.c_[xx.ravel(), yy.ravel()], model)\n",
        "\n",
        "   predictions = predictions.reshape(xx.shape)\n",
        "\n",
        "   f, ax = plt.subplots(figsize=(8, 6))\n",
        "   contour = ax.contourf(xx, yy, predictions, 1, cmap=\"RdBu\", vmin=0, vmax=1)\n",
        "\n",
        "   ax_c = f.colorbar(contour)\n",
        "   ax_c.set_label(\"Decision class\")\n",
        "   ax.scatter(X[:,0], X[:,1], c=y, s=55, cmap=\"RdBu\", vmin=-.2, vmax=1.2,\n",
        "              edgecolor=\"black\", linewidth=1)\n",
        "\n",
        "   ax.set( xlim=(x_min, x_max), ylim=(y_min, y_max), xlabel=\"Bwt\", ylabel=\"Hwt\")"
      ],
      "metadata": {
        "id": "1cJEvUIyqu-L"
      },
      "execution_count": 323,
      "outputs": []
    },
    {
      "cell_type": "code",
      "source": [
        "plotCats(x_scaled, y, model_scaled)"
      ],
      "metadata": {
        "id": "eTLyIIRTrp0-",
        "colab": {
          "base_uri": "https://localhost:8080/",
          "height": 547
        },
        "outputId": "19fbb35d-a775-42c6-a1f9-46eb0bcc85b0"
      },
      "execution_count": 324,
      "outputs": [
        {
          "output_type": "display_data",
          "data": {
            "text/plain": [
              "<Figure size 800x600 with 2 Axes>"
            ],
            "image/png": "[encoded data removed]"
          },
          "metadata": {}
        }
      ]
    },
    {
      "cell_type": "markdown",
      "source": [
        "#### c) Zastosuj skalowanie Min - Max i porównaj wyniki.  "
      ],
      "metadata": {
        "id": "Iksg52UCKrdm"
      }
    },
    {
      "cell_type": "code",
      "source": [
        "scaler = MinMaxScaler()\n",
        "\n",
        "scaler.fit(x)\n",
        "x_minmax_scaled = scaler.transform(x)\n",
        "x_minmax_scaled.std(axis=0)"
      ],
      "metadata": {
        "id": "2Do8GfBBrm3s",
        "colab": {
          "base_uri": "https://localhost:8080/"
        },
        "outputId": "2785514d-9596-4360-a9af-0b7ffe1304ba"
      },
      "execution_count": 325,
      "outputs": [
        {
          "output_type": "execute_result",
          "data": {
            "text/plain": [
              "array([0.2544, 0.1709], dtype=float16)"
            ]
          },
          "metadata": {},
          "execution_count": 325
        }
      ]
    },
    {
      "cell_type": "code",
      "source": [
        "# Uczymy model z MinMaxScaler\n",
        "model_minmax_scaled = train_ann(x_minmax_scaled, y, hidden=10, eta=0.1)\n",
        "predictions_minmax_scaled = predict(x_minmax_scaled, model_minmax_scaled)"
      ],
      "metadata": {
        "id": "a-y3rOaoK_od"
      },
      "execution_count": 326,
      "outputs": []
    },
    {
      "cell_type": "code",
      "source": [
        "# Obliczanie metryk dla modelu z MinMaxScaler\n",
        "accuracy_minmax = metrics.accuracy_score(y, predictions_minmax_scaled)\n",
        "precision_minmax = metrics.precision_score(y, predictions_minmax_scaled, zero_division=0)\n",
        "recall_minmax = metrics.recall_score(y, predictions_minmax_scaled, zero_division=0)\n",
        "f1_minmax = metrics.f1_score(y, predictions_minmax_scaled, zero_division=0)\n",
        "conf_matrix_minmax = metrics.confusion_matrix(y, predictions_minmax_scaled)\n",
        "\n",
        "# Tworzymy nowy wiersz z wynikami\n",
        "minmax_result = {\n",
        "    \"Model\": \"ANN MinMaxScaler\",\n",
        "    \"Parameters\": \"hidden=10, eta=0.1\",\n",
        "    \"Accuracy\": accuracy_minmax,\n",
        "    \"Precision\": precision_minmax,\n",
        "    \"Recall\": recall_minmax,\n",
        "    \"F1_Score\": f1_minmax,\n",
        "    \"Confusion_Matrix\": conf_matrix_minmax.tolist()\n",
        "}\n",
        "\n",
        "# Dodanie nowego wiersza do istniejącej ramki danych\n",
        "results = pd.concat([results, pd.DataFrame([minmax_result])], ignore_index=True)\n",
        "\n",
        "# Wyświetlenie zaktualizowanej ramki danych\n",
        "print(results)"
      ],
      "metadata": {
        "colab": {
          "base_uri": "https://localhost:8080/"
        },
        "id": "R8u5iYvsDbbi",
        "outputId": "cce019e1-6b7a-4348-ccb5-1f25db5da8c1"
      },
      "execution_count": 327,
      "outputs": [
        {
          "output_type": "stream",
          "name": "stdout",
          "text": [
            "              Model               Parameters  Accuracy  Precision  Recall  \\\n",
            "0       ANN Default     hidden=100, eta=0.15     0.674      0.000   0.000   \n",
            "1        ANN Skaled  hidden=100, eta=default     0.875      0.774   0.872   \n",
            "2  ANN MinMaxScaler       hidden=10, eta=0.1     0.792      0.689   0.660   \n",
            "\n",
            "   F1_Score      Confusion_Matrix  \n",
            "0     0.000    [[97, 0], [47, 0]]  \n",
            "1     0.820   [[85, 12], [6, 41]]  \n",
            "2     0.674  [[83, 14], [16, 31]]  \n"
          ]
        }
      ]
    },
    {
      "cell_type": "code",
      "source": [
        "plotCats(x_minmax_scaled, y, model_minmax_scaled)"
      ],
      "metadata": {
        "id": "JoVZzXLuqvB1",
        "colab": {
          "base_uri": "https://localhost:8080/",
          "height": 547
        },
        "outputId": "2147338b-1206-4802-c7b0-c2a035b0eca2"
      },
      "execution_count": 328,
      "outputs": [
        {
          "output_type": "display_data",
          "data": {
            "text/plain": [
              "<Figure size 800x600 with 2 Axes>"
            ],
            "image/png": "[encoded data removed]"
          },
          "metadata": {}
        }
      ]
    },
    {
      "cell_type": "markdown",
      "source": [
        "**Komentarz:** Normalizacja do przedziału [0, 1] eliminuje różnice w wielkości cech, co pozwala modelowi na lepsze uchwycenie wzorców w danych. Wynik może być podobny lub lepszy niż przy skalowaniu standardowym."
      ],
      "metadata": {
        "id": "JuqPezeF79wd"
      }
    },
    {
      "cell_type": "code",
      "source": [
        "# Stworzenie ramki w wynikami modeli SVM z poprzednich labolatoriów\n",
        "# Wyniki dla SVM z wagami\n",
        "conf_matrix_weighted = [[41, 6], [19, 78]]\n",
        "precision_weighted = 0.85  # weighted avg precision\n",
        "recall_weighted = 0.83     # weighted avg recall\n",
        "f1_weighted = 0.83         # weighted avg f1-score\n",
        "accuracy_weighted = 0.83   # overall accuracy\n",
        "\n",
        "# Dodanie wyników dla SVM z wagami\n",
        "svm_weighted_result = {\n",
        "    \"Model\": \"SVM z wagami\",\n",
        "    \"Parameters\": \"C=1, kernel='rbf', gamma=5, class_weight=custom\",\n",
        "    \"Accuracy\": accuracy_weighted,\n",
        "    \"Precision\": precision_weighted,\n",
        "    \"Recall\": recall_weighted,\n",
        "    \"F1_Score\": f1_weighted,\n",
        "    \"Confusion_Matrix\": conf_matrix_weighted\n",
        "}\n",
        "\n",
        "# Wyniki dla SVM bez wag\n",
        "conf_matrix_unweighted = [[38, 9], [12, 85]]\n",
        "precision_unweighted = 0.86  # weighted avg precision\n",
        "recall_unweighted = 0.85     # weighted avg recall\n",
        "f1_unweighted = 0.86         # weighted avg f1-score\n",
        "accuracy_unweighted = 0.85   # overall accuracy\n",
        "\n",
        "# Dodanie wyników dla SVM bez wag\n",
        "svm_unweighted_result = {\n",
        "    \"Model\": \"SVM bez wag\",\n",
        "    \"Parameters\": \"C=1, kernel='rbf', gamma=5\",\n",
        "    \"Accuracy\": accuracy_unweighted,\n",
        "    \"Precision\": precision_unweighted,\n",
        "    \"Recall\": recall_unweighted,\n",
        "    \"F1_Score\": f1_unweighted,\n",
        "    \"Confusion_Matrix\": conf_matrix_unweighted\n",
        "}\n",
        "\n",
        "# Wyniki dla najlepszego modelu SVM z GridSearchCV\n",
        "conf_matrix_best_svm = [[36, 11], [15, 82]]\n",
        "precision_best = 0.82  # weighted avg precision\n",
        "recall_best = 0.82     # weighted avg recall\n",
        "f1_best = 0.82         # weighted avg f1-score\n",
        "accuracy_best = 0.82   # overall accuracy\n",
        "\n",
        "# Dodanie wyników dla najlepszego modelu SVM\n",
        "best_svm_result = {\n",
        "    \"Model\": \"SVM best model\",\n",
        "    \"Parameters\": \"best SVM\",  # Zapisywanie najlepszych parametrów\n",
        "    \"Accuracy\": accuracy_best,\n",
        "    \"Precision\": precision_best,\n",
        "    \"Recall\": recall_best,\n",
        "    \"F1_Score\": f1_best,\n",
        "    \"Confusion_Matrix\": conf_matrix_best_svm\n",
        "}"
      ],
      "metadata": {
        "id": "SGBWIyqYFMoo"
      },
      "execution_count": 329,
      "outputs": []
    },
    {
      "cell_type": "code",
      "source": [
        "# Dodanie wyników do istniejącej ramki danych\n",
        "results = pd.concat([results, pd.DataFrame([svm_weighted_result, svm_unweighted_result, best_svm_result])], ignore_index=True)"
      ],
      "metadata": {
        "id": "rNU28X_mICBC"
      },
      "execution_count": 330,
      "outputs": []
    },
    {
      "cell_type": "code",
      "source": [
        "# Wyświetlenie ramki danych\n",
        "display(results)"
      ],
      "metadata": {
        "colab": {
          "base_uri": "https://localhost:8080/",
          "height": 238
        },
        "id": "_Pd4Awp7JhFZ",
        "outputId": "cc25c86d-3b5e-4fa0-dbf3-ee20a8802739"
      },
      "execution_count": 331,
      "outputs": [
        {
          "output_type": "display_data",
          "data": {
            "text/plain": [
              "              Model                                       Parameters  \\\n",
              "0       ANN Default                             hidden=100, eta=0.15   \n",
              "1        ANN Skaled                          hidden=100, eta=default   \n",
              "2  ANN MinMaxScaler                               hidden=10, eta=0.1   \n",
              "3      SVM z wagami  C=1, kernel='rbf', gamma=5, class_weight=custom   \n",
              "4       SVM bez wag                       C=1, kernel='rbf', gamma=5   \n",
              "5    SVM best model                                         best SVM   \n",
              "\n",
              "   Accuracy  Precision  Recall  F1_Score      Confusion_Matrix  \n",
              "0     0.674      0.000   0.000     0.000    [[97, 0], [47, 0]]  \n",
              "1     0.875      0.774   0.872     0.820   [[85, 12], [6, 41]]  \n",
              "2     0.792      0.689   0.660     0.674  [[83, 14], [16, 31]]  \n",
              "3     0.830      0.850   0.830     0.830   [[41, 6], [19, 78]]  \n",
              "4     0.850      0.860   0.850     0.860   [[38, 9], [12, 85]]  \n",
              "5     0.820      0.820   0.820     0.820  [[36, 11], [15, 82]]  "
            ],
            "text/html": [
              "\n",
              "  <div id=\"df-51f54dd7-26a0-4292-a5d7-34be0ea0a5fb\" class=\"colab-df-container\">\n",
              "    <div>\n",
              "<style scoped>\n",
              "    .dataframe tbody tr th:only-of-type {\n",
              "        vertical-align: middle;\n",
              "    }\n",
              "\n",
              "    .dataframe tbody tr th {\n",
              "        vertical-align: top;\n",
              "    }\n",
              "\n",
              "    .dataframe thead th {\n",
              "        text-align: right;\n",
              "    }\n",
              "</style>\n",
              "<table border=\"1\" class=\"dataframe\">\n",
              "  <thead>\n",
              "    <tr style=\"text-align: right;\">\n",
              "      <th></th>\n",
              "      <th>Model</th>\n",
              "      <th>Parameters</th>\n",
              "      <th>Accuracy</th>\n",
              "      <th>Precision</th>\n",
              "      <th>Recall</th>\n",
              "      <th>F1_Score</th>\n",
              "      <th>Confusion_Matrix</th>\n",
              "    </tr>\n",
              "  </thead>\n",
              "  <tbody>\n",
              "    <tr>\n",
              "      <th>0</th>\n",
              "      <td>ANN Default</td>\n",
              "      <td>hidden=100, eta=0.15</td>\n",
              "      <td>0.674</td>\n",
              "      <td>0.000</td>\n",
              "      <td>0.000</td>\n",
              "      <td>0.000</td>\n",
              "      <td>[[97, 0], [47, 0]]</td>\n",
              "    </tr>\n",
              "    <tr>\n",
              "      <th>1</th>\n",
              "      <td>ANN Skaled</td>\n",
              "      <td>hidden=100, eta=default</td>\n",
              "      <td>0.875</td>\n",
              "      <td>0.774</td>\n",
              "      <td>0.872</td>\n",
              "      <td>0.820</td>\n",
              "      <td>[[85, 12], [6, 41]]</td>\n",
              "    </tr>\n",
              "    <tr>\n",
              "      <th>2</th>\n",
              "      <td>ANN MinMaxScaler</td>\n",
              "      <td>hidden=10, eta=0.1</td>\n",
              "      <td>0.792</td>\n",
              "      <td>0.689</td>\n",
              "      <td>0.660</td>\n",
              "      <td>0.674</td>\n",
              "      <td>[[83, 14], [16, 31]]</td>\n",
              "    </tr>\n",
              "    <tr>\n",
              "      <th>3</th>\n",
              "      <td>SVM z wagami</td>\n",
              "      <td>C=1, kernel='rbf', gamma=5, class_weight=custom</td>\n",
              "      <td>0.830</td>\n",
              "      <td>0.850</td>\n",
              "      <td>0.830</td>\n",
              "      <td>0.830</td>\n",
              "      <td>[[41, 6], [19, 78]]</td>\n",
              "    </tr>\n",
              "    <tr>\n",
              "      <th>4</th>\n",
              "      <td>SVM bez wag</td>\n",
              "      <td>C=1, kernel='rbf', gamma=5</td>\n",
              "      <td>0.850</td>\n",
              "      <td>0.860</td>\n",
              "      <td>0.850</td>\n",
              "      <td>0.860</td>\n",
              "      <td>[[38, 9], [12, 85]]</td>\n",
              "    </tr>\n",
              "    <tr>\n",
              "      <th>5</th>\n",
              "      <td>SVM best model</td>\n",
              "      <td>best SVM</td>\n",
              "      <td>0.820</td>\n",
              "      <td>0.820</td>\n",
              "      <td>0.820</td>\n",
              "      <td>0.820</td>\n",
              "      <td>[[36, 11], [15, 82]]</td>\n",
              "    </tr>\n",
              "  </tbody>\n",
              "</table>\n",
              "</div>\n",
              "    <div class=\"colab-df-buttons\">\n",
              "\n",
              "  <div class=\"colab-df-container\">\n",
              "    <button class=\"colab-df-convert\" onclick=\"convertToInteractive('df-51f54dd7-26a0-4292-a5d7-34be0ea0a5fb')\"\n",
              "            title=\"Convert this dataframe to an interactive table.\"\n",
              "            style=\"display:none;\">\n",
              "\n",
              "  <svg xmlns=\"http://www.w3.org/2000/svg\" height=\"24px\" viewBox=\"0 -960 960 960\">\n",
              "    <path d=\"M120-120v-720h720v720H120Zm60-500h600v-160H180v160Zm220 220h160v-160H400v160Zm0 220h160v-160H400v160ZM180-400h160v-160H180v160Zm440 0h160v-160H620v160ZM180-180h160v-160H180v160Zm440 0h160v-160H620v160Z\"/>\n",
              "  </svg>\n",
              "    </button>\n",
              "\n",
              "  <style>\n",
              "    .colab-df-container {\n",
              "      display:flex;\n",
              "      gap: 12px;\n",
              "    }\n",
              "\n",
              "    .colab-df-convert {\n",
              "      background-color: #E8F0FE;\n",
              "      border: none;\n",
              "      border-radius: 50%;\n",
              "      cursor: pointer;\n",
              "      display: none;\n",
              "      fill: #1967D2;\n",
              "      height: 32px;\n",
              "      padding: 0 0 0 0;\n",
              "      width: 32px;\n",
              "    }\n",
              "\n",
              "    .colab-df-convert:hover {\n",
              "      background-color: #E2EBFA;\n",
              "      box-shadow: 0px 1px 2px rgba(60, 64, 67, 0.3), 0px 1px 3px 1px rgba(60, 64, 67, 0.15);\n",
              "      fill: #174EA6;\n",
              "    }\n",
              "\n",
              "    .colab-df-buttons div {\n",
              "      margin-bottom: 4px;\n",
              "    }\n",
              "\n",
              "    [theme=dark] .colab-df-convert {\n",
              "      background-color: #3B4455;\n",
              "      fill: #D2E3FC;\n",
              "    }\n",
              "\n",
              "    [theme=dark] .colab-df-convert:hover {\n",
              "      background-color: #434B5C;\n",
              "      box-shadow: 0px 1px 3px 1px rgba(0, 0, 0, 0.15);\n",
              "      filter: drop-shadow(0px 1px 2px rgba(0, 0, 0, 0.3));\n",
              "      fill: #FFFFFF;\n",
              "    }\n",
              "  </style>\n",
              "\n",
              "    <script>\n",
              "      const buttonEl =\n",
              "        document.querySelector('#df-51f54dd7-26a0-4292-a5d7-34be0ea0a5fb button.colab-df-convert');\n",
              "      buttonEl.style.display =\n",
              "        google.colab.kernel.accessAllowed ? 'block' : 'none';\n",
              "\n",
              "      async function convertToInteractive(key) {\n",
              "        const element = document.querySelector('#df-51f54dd7-26a0-4292-a5d7-34be0ea0a5fb');\n",
              "        const dataTable =\n",
              "          await google.colab.kernel.invokeFunction('convertToInteractive',\n",
              "                                                    [key], {});\n",
              "        if (!dataTable) return;\n",
              "\n",
              "        const docLinkHtml = 'Like what you see? Visit the ' +\n",
              "          '<a target=\"_blank\" href=https://colab.research.google.com/notebooks/data_table.ipynb>data table notebook</a>'\n",
              "          + ' to learn more about interactive tables.';\n",
              "        element.innerHTML = '';\n",
              "        dataTable['output_type'] = 'display_data';\n",
              "        await google.colab.output.renderOutput(dataTable, element);\n",
              "        const docLink = document.createElement('div');\n",
              "        docLink.innerHTML = docLinkHtml;\n",
              "        element.appendChild(docLink);\n",
              "      }\n",
              "    </script>\n",
              "  </div>\n",
              "\n",
              "\n",
              "<div id=\"df-01b6bc50-648e-4058-978b-9eeadb13b5c4\">\n",
              "  <button class=\"colab-df-quickchart\" onclick=\"quickchart('df-01b6bc50-648e-4058-978b-9eeadb13b5c4')\"\n",
              "            title=\"Suggest charts\"\n",
              "            style=\"display:none;\">\n",
              "\n",
              "<svg xmlns=\"http://www.w3.org/2000/svg\" height=\"24px\"viewBox=\"0 0 24 24\"\n",
              "     width=\"24px\">\n",
              "    <g>\n",
              "        <path d=\"M19 3H5c-1.1 0-2 .9-2 2v14c0 1.1.9 2 2 2h14c1.1 0 2-.9 2-2V5c0-1.1-.9-2-2-2zM9 17H7v-7h2v7zm4 0h-2V7h2v10zm4 0h-2v-4h2v4z\"/>\n",
              "    </g>\n",
              "</svg>\n",
              "  </button>\n",
              "\n",
              "<style>\n",
              "  .colab-df-quickchart {\n",
              "      --bg-color: #E8F0FE;\n",
              "      --fill-color: #1967D2;\n",
              "      --hover-bg-color: #E2EBFA;\n",
              "      --hover-fill-color: #174EA6;\n",
              "      --disabled-fill-color: #AAA;\n",
              "      --disabled-bg-color: #DDD;\n",
              "  }\n",
              "\n",
              "  [theme=dark] .colab-df-quickchart {\n",
              "      --bg-color: #3B4455;\n",
              "      --fill-color: #D2E3FC;\n",
              "      --hover-bg-color: #434B5C;\n",
              "      --hover-fill-color: #FFFFFF;\n",
              "      --disabled-bg-color: #3B4455;\n",
              "      --disabled-fill-color: #666;\n",
              "  }\n",
              "\n",
              "  .colab-df-quickchart {\n",
              "    background-color: var(--bg-color);\n",
              "    border: none;\n",
              "    border-radius: 50%;\n",
              "    cursor: pointer;\n",
              "    display: none;\n",
              "    fill: var(--fill-color);\n",
              "    height: 32px;\n",
              "    padding: 0;\n",
              "    width: 32px;\n",
              "  }\n",
              "\n",
              "  .colab-df-quickchart:hover {\n",
              "    background-color: var(--hover-bg-color);\n",
              "    box-shadow: 0 1px 2px rgba(60, 64, 67, 0.3), 0 1px 3px 1px rgba(60, 64, 67, 0.15);\n",
              "    fill: var(--button-hover-fill-color);\n",
              "  }\n",
              "\n",
              "  .colab-df-quickchart-complete:disabled,\n",
              "  .colab-df-quickchart-complete:disabled:hover {\n",
              "    background-color: var(--disabled-bg-color);\n",
              "    fill: var(--disabled-fill-color);\n",
              "    box-shadow: none;\n",
              "  }\n",
              "\n",
              "  .colab-df-spinner {\n",
              "    border: 2px solid var(--fill-color);\n",
              "    border-color: transparent;\n",
              "    border-bottom-color: var(--fill-color);\n",
              "    animation:\n",
              "      spin 1s steps(1) infinite;\n",
              "  }\n",
              "\n",
              "  @keyframes spin {\n",
              "    0% {\n",
              "      border-color: transparent;\n",
              "      border-bottom-color: var(--fill-color);\n",
              "      border-left-color: var(--fill-color);\n",
              "    }\n",
              "    20% {\n",
              "      border-color: transparent;\n",
              "      border-left-color: var(--fill-color);\n",
              "      border-top-color: var(--fill-color);\n",
              "    }\n",
              "    30% {\n",
              "      border-color: transparent;\n",
              "      border-left-color: var(--fill-color);\n",
              "      border-top-color: var(--fill-color);\n",
              "      border-right-color: var(--fill-color);\n",
              "    }\n",
              "    40% {\n",
              "      border-color: transparent;\n",
              "      border-right-color: var(--fill-color);\n",
              "      border-top-color: var(--fill-color);\n",
              "    }\n",
              "    60% {\n",
              "      border-color: transparent;\n",
              "      border-right-color: var(--fill-color);\n",
              "    }\n",
              "    80% {\n",
              "      border-color: transparent;\n",
              "      border-right-color: var(--fill-color);\n",
              "      border-bottom-color: var(--fill-color);\n",
              "    }\n",
              "    90% {\n",
              "      border-color: transparent;\n",
              "      border-bottom-color: var(--fill-color);\n",
              "    }\n",
              "  }\n",
              "</style>\n",
              "\n",
              "  <script>\n",
              "    async function quickchart(key) {\n",
              "      const quickchartButtonEl =\n",
              "        document.querySelector('#' + key + ' button');\n",
              "      quickchartButtonEl.disabled = true;  // To prevent multiple clicks.\n",
              "      quickchartButtonEl.classList.add('colab-df-spinner');\n",
              "      try {\n",
              "        const charts = await google.colab.kernel.invokeFunction(\n",
              "            'suggestCharts', [key], {});\n",
              "      } catch (error) {\n",
              "        console.error('Error during call to suggestCharts:', error);\n",
              "      }\n",
              "      quickchartButtonEl.classList.remove('colab-df-spinner');\n",
              "      quickchartButtonEl.classList.add('colab-df-quickchart-complete');\n",
              "    }\n",
              "    (() => {\n",
              "      let quickchartButtonEl =\n",
              "        document.querySelector('#df-01b6bc50-648e-4058-978b-9eeadb13b5c4 button');\n",
              "      quickchartButtonEl.style.display =\n",
              "        google.colab.kernel.accessAllowed ? 'block' : 'none';\n",
              "    })();\n",
              "  </script>\n",
              "</div>\n",
              "\n",
              "  <div id=\"id_743372b3-0ae0-45cc-8ca9-65ae6bf8184d\">\n",
              "    <style>\n",
              "      .colab-df-generate {\n",
              "        background-color: #E8F0FE;\n",
              "        border: none;\n",
              "        border-radius: 50%;\n",
              "        cursor: pointer;\n",
              "        display: none;\n",
              "        fill: #1967D2;\n",
              "        height: 32px;\n",
              "        padding: 0 0 0 0;\n",
              "        width: 32px;\n",
              "      }\n",
              "\n",
              "      .colab-df-generate:hover {\n",
              "        background-color: #E2EBFA;\n",
              "        box-shadow: 0px 1px 2px rgba(60, 64, 67, 0.3), 0px 1px 3px 1px rgba(60, 64, 67, 0.15);\n",
              "        fill: #174EA6;\n",
              "      }\n",
              "\n",
              "      [theme=dark] .colab-df-generate {\n",
              "        background-color: #3B4455;\n",
              "        fill: #D2E3FC;\n",
              "      }\n",
              "\n",
              "      [theme=dark] .colab-df-generate:hover {\n",
              "        background-color: #434B5C;\n",
              "        box-shadow: 0px 1px 3px 1px rgba(0, 0, 0, 0.15);\n",
              "        filter: drop-shadow(0px 1px 2px rgba(0, 0, 0, 0.3));\n",
              "        fill: #FFFFFF;\n",
              "      }\n",
              "    </style>\n",
              "    <button class=\"colab-df-generate\" onclick=\"generateWithVariable('results')\"\n",
              "            title=\"Generate code using this dataframe.\"\n",
              "            style=\"display:none;\">\n",
              "\n",
              "  <svg xmlns=\"http://www.w3.org/2000/svg\" height=\"24px\"viewBox=\"0 0 24 24\"\n",
              "       width=\"24px\">\n",
              "    <path d=\"M7,19H8.4L18.45,9,17,7.55,7,17.6ZM5,21V16.75L18.45,3.32a2,2,0,0,1,2.83,0l1.4,1.43a1.91,1.91,0,0,1,.58,1.4,1.91,1.91,0,0,1-.58,1.4L9.25,21ZM18.45,9,17,7.55Zm-12,3A5.31,5.31,0,0,0,4.9,8.1,5.31,5.31,0,0,0,1,6.5,5.31,5.31,0,0,0,4.9,4.9,5.31,5.31,0,0,0,6.5,1,5.31,5.31,0,0,0,8.1,4.9,5.31,5.31,0,0,0,12,6.5,5.46,5.46,0,0,0,6.5,12Z\"/>\n",
              "  </svg>\n",
              "    </button>\n",
              "    <script>\n",
              "      (() => {\n",
              "      const buttonEl =\n",
              "        document.querySelector('#id_743372b3-0ae0-45cc-8ca9-65ae6bf8184d button.colab-df-generate');\n",
              "      buttonEl.style.display =\n",
              "        google.colab.kernel.accessAllowed ? 'block' : 'none';\n",
              "\n",
              "      buttonEl.onclick = () => {\n",
              "        google.colab.notebook.generateWithVariable('results');\n",
              "      }\n",
              "      })();\n",
              "    </script>\n",
              "  </div>\n",
              "\n",
              "    </div>\n",
              "  </div>\n"
            ],
            "application/vnd.google.colaboratory.intrinsic+json": {
              "type": "dataframe",
              "variable_name": "results",
              "summary": "{\n  \"name\": \"results\",\n  \"rows\": 6,\n  \"fields\": [\n    {\n      \"column\": \"Model\",\n      \"properties\": {\n        \"dtype\": \"string\",\n        \"num_unique_values\": 6,\n        \"samples\": [\n          \"ANN Default\",\n          \"ANN Skaled\",\n          \"SVM best model\"\n        ],\n        \"semantic_type\": \"\",\n        \"description\": \"\"\n      }\n    },\n    {\n      \"column\": \"Parameters\",\n      \"properties\": {\n        \"dtype\": \"string\",\n        \"num_unique_values\": 6,\n        \"samples\": [\n          \"hidden=100, eta=0.15\",\n          \"hidden=100, eta=default\",\n          \"best SVM\"\n        ],\n        \"semantic_type\": \"\",\n        \"description\": \"\"\n      }\n    },\n    {\n      \"column\": \"Accuracy\",\n      \"properties\": {\n        \"dtype\": \"number\",\n        \"std\": 0.07099043942469951,\n        \"min\": 0.6736111111111112,\n        \"max\": 0.875,\n        \"num_unique_values\": 6,\n        \"samples\": [\n          0.6736111111111112,\n          0.875,\n          0.82\n        ],\n        \"semantic_type\": \"\",\n        \"description\": \"\"\n      }\n    },\n    {\n      \"column\": \"Precision\",\n      \"properties\": {\n        \"dtype\": \"number\",\n        \"std\": 0.3319217801851434,\n        \"min\": 0.0,\n        \"max\": 0.86,\n        \"num_unique_values\": 6,\n        \"samples\": [\n          0.0,\n          0.7735849056603774,\n          0.82\n        ],\n        \"semantic_type\": \"\",\n        \"description\": \"\"\n      }\n    },\n    {\n      \"column\": \"Recall\",\n      \"properties\": {\n        \"dtype\": \"number\",\n        \"std\": 0.33776520801837895,\n        \"min\": 0.0,\n        \"max\": 0.8723404255319149,\n        \"num_unique_values\": 6,\n        \"samples\": [\n          0.0,\n          0.8723404255319149,\n          0.82\n        ],\n        \"semantic_type\": \"\",\n        \"description\": \"\"\n      }\n    },\n    {\n      \"column\": \"F1_Score\",\n      \"properties\": {\n        \"dtype\": \"number\",\n        \"std\": 0.33333832069362823,\n        \"min\": 0.0,\n        \"max\": 0.86,\n        \"num_unique_values\": 5,\n        \"samples\": [\n          0.82,\n          0.86,\n          0.6739130434782609\n        ],\n        \"semantic_type\": \"\",\n        \"description\": \"\"\n      }\n    },\n    {\n      \"column\": \"Confusion_Matrix\",\n      \"properties\": {\n        \"dtype\": \"object\",\n        \"semantic_type\": \"\",\n        \"description\": \"\"\n      }\n    }\n  ]\n}"
            }
          },
          "metadata": {}
        }
      ]
    },
    {
      "cell_type": "markdown",
      "source": [
        "**Wniosek:** Zarówno modele ANN, jak i SVM, mogą osiągać dobre wyniki, jednak wybór odpowiedniej metody zależy od konkretnego problemu, dostępnych danych oraz wymagań związanych z precyzją i czułością. W przypadku większej liczby iteracji i odpowiedniej konfiguracji, ANN może być równie dobrym wyborem jak SVM."
      ],
      "metadata": {
        "id": "eBi6VJz1NxN8"
      }
    }
  ]
}