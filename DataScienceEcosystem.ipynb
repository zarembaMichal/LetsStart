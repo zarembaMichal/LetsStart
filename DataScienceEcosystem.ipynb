{
 "cells": [
  {
   "cell_type": "markdown",
   "id": "d194e878-afe2-40e5-9398-d171b463021f",
   "metadata": {},
   "source": [
    "Exercise 2: Create markdown cell with title of the notebook"
   ]
  },
  {
   "cell_type": "markdown",
   "id": "7bf9eabf-b993-4afe-bdec-020f6d8487ca",
   "metadata": {},
   "source": [
    "# Data Science Tools and Ecosystem #\n"
   ]
  },
  {
   "cell_type": "markdown",
   "id": "67e95e0d-773b-4e2f-a726-3f39985e66fe",
   "metadata": {},
   "source": [
    "Exercise 3 - Create a markdown cell for an introduction"
   ]
  },
  {
   "cell_type": "markdown",
   "id": "8d422239-e522-470c-b1dc-f5e2aef2d650",
   "metadata": {},
   "source": [
    "### In this notebook, Data Science Tools and Ecosystem are summarized. ###"
   ]
  },
  {
   "cell_type": "markdown",
   "id": "de6fbba5-6d8a-43c1-a9ec-98fb7847c994",
   "metadata": {},
   "source": [
    "Exercise 10 - Insert a markdown cell to list Objectives\n",
    "\n"
   ]
  },
  {
   "cell_type": "markdown",
   "id": "bb0aa404-8e1b-4d0f-90aa-128dfdb02081",
   "metadata": {},
   "source": [
    "**Objectives:** \n",
    "In this notebook You will find key takeaways from the course like \n",
    "* Data Scientist's most popular languages\n",
    "* Libraries used \n",
    "* Markdowns usage in Jupyter Notebook"
   ]
  },
  {
   "cell_type": "markdown",
   "id": "12e25dde-bae5-4f1a-994b-c8b32cfb5477",
   "metadata": {},
   "source": [
    "Exercise 4 - Create a markdown cell to list data science languages"
   ]
  },
  {
   "cell_type": "markdown",
   "id": "f1a160ef-4aa5-4f38-83be-ab86ee967682",
   "metadata": {
    "tags": []
   },
   "source": [
    "### Some of the popular languages that Data Scientists use are: ###\n",
    "\n",
    "1. Python\n",
    "2. R\n",
    "3. SQL\n",
    "4. Scala\n",
    "5. Julia\n"
   ]
  },
  {
   "cell_type": "markdown",
   "id": "4d9b85d7-2e06-4a18-af8e-192f646411ff",
   "metadata": {},
   "source": [
    "Exercise 5 - Create a markdown cell to list data science libraries"
   ]
  },
  {
   "cell_type": "markdown",
   "id": "c5da2dd0-a6fb-445e-bf21-2d19a9a4f78a",
   "metadata": {},
   "source": [
    "### Some of the commonly used libraries used by Data Scientists include:###\n",
    "\n",
    "1. Matplotlib \n",
    "2. NumPy\n",
    "3. Pandas\n",
    "4. Seaborn\n",
    "5. Sklearn\n",
    "6. TensorFlow\n",
    "7. PyTorch\n",
    "8. SciPyExercise 5 - Create a markdown cell to list data science libraries\n",
    "\n",
    "\n"
   ]
  },
  {
   "cell_type": "markdown",
   "id": "08182519-f313-437a-8b79-d7117cff55a0",
   "metadata": {},
   "source": [
    "Exercise 6 - Create a markdown cell with a table of Data Science tools"
   ]
  },
  {
   "cell_type": "markdown",
   "id": "b4b4e68c-2495-47b6-9c5b-91c3786a2c44",
   "metadata": {},
   "source": [
    "| Data Science Tools |\n",
    "|--- |\n",
    "| Jupiter Lab |\n",
    "| Anaconda |\n",
    "| Jupiter Notebook |"
   ]
  },
  {
   "cell_type": "markdown",
   "id": "e03619eb-d99e-4427-b7f1-6fb49e061337",
   "metadata": {},
   "source": [
    "Exercise 7 - Create a markdown cell introducing arithmetic expression examples"
   ]
  },
  {
   "cell_type": "markdown",
   "id": "894ba285-ea5b-430e-8812-d8f7747c93af",
   "metadata": {},
   "source": [
    "### Below are a few examples of evaluating arithmetic expressions in Python.###"
   ]
  },
  {
   "cell_type": "markdown",
   "id": "86a1fff1-5727-4464-9add-cc422e5d447c",
   "metadata": {},
   "source": [
    "Exercise 8 - Create a code cell to multiply and add numbers"
   ]
  },
  {
   "cell_type": "code",
   "execution_count": 10,
   "id": "15449739-7b69-4f46-9c21-3a7d9f90efdd",
   "metadata": {},
   "outputs": [
    {
     "data": {
      "text/plain": [
       "17"
      ]
     },
     "execution_count": 10,
     "metadata": {},
     "output_type": "execute_result"
    }
   ],
   "source": [
    "\"\"\"This a simple arithmetic expression to mutiply then add integers\"\"\"\n",
    "(3*4)+5"
   ]
  },
  {
   "cell_type": "markdown",
   "id": "6b2c6030-b5a9-486c-ba56-bf85f632bcb0",
   "metadata": {},
   "source": [
    "Exercise 9 - Create a code cell to convert minutes to hours"
   ]
  },
  {
   "cell_type": "code",
   "execution_count": 11,
   "id": "5157793e-e5d5-4301-b326-f96b9ab5a898",
   "metadata": {},
   "outputs": [
    {
     "data": {
      "text/plain": [
       "3.3333333333333335"
      ]
     },
     "execution_count": 11,
     "metadata": {},
     "output_type": "execute_result"
    }
   ],
   "source": [
    "\"\"\"This will convert 200 minutes to hours by diving by 60\"\"\"\n",
    "def MinutesToHours(minutes):\n",
    "    hours = minutes/60\n",
    "    return hours\n",
    "\n",
    "MinutesToHours(200)"
   ]
  },
  {
   "cell_type": "markdown",
   "id": "a8760f33-7a6b-416f-8eb8-e7e10b2c6134",
   "metadata": {},
   "source": [
    "Exercise 11 - Create a markdown cell to indicate the Author's name"
   ]
  },
  {
   "cell_type": "markdown",
   "id": "a38109c3-e72e-4811-8108-9af26755119c",
   "metadata": {},
   "source": [
    "### Author: ###\n",
    "Michał Zaremba"
   ]
  }
 ],
 "metadata": {
  "kernelspec": {
   "display_name": "Python",
   "language": "python",
   "name": "conda-env-python-py"
  },
  "language_info": {
   "codemirror_mode": {
    "name": "ipython",
    "version": 3
   },
   "file_extension": ".py",
   "mimetype": "text/x-python",
   "name": "python",
   "nbconvert_exporter": "python",
   "pygments_lexer": "ipython3",
   "version": "3.7.12"
  }
 },
 "nbformat": 4,
 "nbformat_minor": 5
}
